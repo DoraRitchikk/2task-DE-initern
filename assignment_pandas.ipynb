{
 "cells": [
  {
   "cell_type": "markdown",
   "metadata": {},
   "source": [
    "## Датасет собран из базы данных переписи 1994 года и содержит данные о доходах.\n",
    "### Информация о данных:\n",
    "* age: continuous.\n",
    "* workclass: Private, Self-emp-not-inc, Self-emp-inc, Federal-gov, Local-gov, State-gov, Without-pay, Never-worked.\n",
    "* fnlwgt: continuous.\n",
    "* education: Bachelors, Some-college, 11th, HS-grad, Prof-school, Assoc-acdm, Assoc-voc, 9th, 7th-8th, 12th, * Masters, 1st-4th, 10th, Doctorate, 5th-6th, Preschool.\n",
    "* education-num: continuous.\n",
    "* marital-status: Married-civ-spouse, Divorced, Never-married, Separated, Widowed, Married-spouse-absent, Married-AF-spouse.\n",
    "* occupation: Tech-support, Craft-repair, Other-service, Sales, Exec-managerial, Prof-specialty, Handlers-cleaners, Machine-op-inspct, Adm-clerical, Farming-fishing, Transport-moving, Priv-house-serv, Protective-serv, Armed-Forces.\n",
    "* relationship: Wife, Own-child, Husband, Not-in-family, Other-relative, Unmarried.\n",
    "* race: White, Asian-Pac-Islander, Amer-Indian-Eskimo, Other, Black.\n",
    "* sex: Female, Male.\n",
    "* capital-gain: continuous.\n",
    "* capital-loss: continuous.\n",
    "* hours-per-week: continuous.\n",
    "* native-country: United-States, Cambodia, England, Puerto-Rico, Canada, Germany, Outlying-US(Guam-USVI-etc), India, Japan, Greece, South, China, Cuba, Iran, Honduras, Philippines, Italy, Poland, Jamaica, Vietnam, Mexico, Portugal, Ireland, France, Dominican-Republic, Laos, Ecuador, Taiwan, Haiti, Columbia, Hungary, Guatemala, Nicaragua, Scotland, Thailand, Yugoslavia, El-Salvador, Trinadad&Tobago, Peru, Hong, Holand-Netherlands.\n",
    "* salary: >50K,<=50K\n",
    "\n",
    "## Проведите анализ данных при помощи Pandas выполнив поставленные задачи.\n",
    "#### "
   ]
  },
  {
   "cell_type": "code",
   "execution_count": 1,
   "metadata": {},
   "outputs": [],
   "source": [
    "import pandas as pd"
   ]
  },
  {
   "cell_type": "code",
   "execution_count": 16,
   "metadata": {},
   "outputs": [
    {
     "data": {
      "text/html": [
       "<div>\n",
       "<style scoped>\n",
       "    .dataframe tbody tr th:only-of-type {\n",
       "        vertical-align: middle;\n",
       "    }\n",
       "\n",
       "    .dataframe tbody tr th {\n",
       "        vertical-align: top;\n",
       "    }\n",
       "\n",
       "    .dataframe thead th {\n",
       "        text-align: right;\n",
       "    }\n",
       "</style>\n",
       "<table border=\"1\" class=\"dataframe\">\n",
       "  <thead>\n",
       "    <tr style=\"text-align: right;\">\n",
       "      <th></th>\n",
       "      <th>age</th>\n",
       "      <th>workclass</th>\n",
       "      <th>fnlwgt</th>\n",
       "      <th>education</th>\n",
       "      <th>education-num</th>\n",
       "      <th>marital-status</th>\n",
       "      <th>occupation</th>\n",
       "      <th>relationship</th>\n",
       "      <th>race</th>\n",
       "      <th>sex</th>\n",
       "      <th>capital-gain</th>\n",
       "      <th>capital-loss</th>\n",
       "      <th>hours-per-week</th>\n",
       "      <th>native-country</th>\n",
       "      <th>salary</th>\n",
       "    </tr>\n",
       "  </thead>\n",
       "  <tbody>\n",
       "    <tr>\n",
       "      <th>0</th>\n",
       "      <td>39</td>\n",
       "      <td>State-gov</td>\n",
       "      <td>77516</td>\n",
       "      <td>Bachelors</td>\n",
       "      <td>13</td>\n",
       "      <td>Never-married</td>\n",
       "      <td>Adm-clerical</td>\n",
       "      <td>Not-in-family</td>\n",
       "      <td>White</td>\n",
       "      <td>Male</td>\n",
       "      <td>2174</td>\n",
       "      <td>0</td>\n",
       "      <td>40</td>\n",
       "      <td>United-States</td>\n",
       "      <td>&lt;=50K</td>\n",
       "    </tr>\n",
       "    <tr>\n",
       "      <th>1</th>\n",
       "      <td>50</td>\n",
       "      <td>Self-emp-not-inc</td>\n",
       "      <td>83311</td>\n",
       "      <td>Bachelors</td>\n",
       "      <td>13</td>\n",
       "      <td>Married-civ-spouse</td>\n",
       "      <td>Exec-managerial</td>\n",
       "      <td>Husband</td>\n",
       "      <td>White</td>\n",
       "      <td>Male</td>\n",
       "      <td>0</td>\n",
       "      <td>0</td>\n",
       "      <td>13</td>\n",
       "      <td>United-States</td>\n",
       "      <td>&lt;=50K</td>\n",
       "    </tr>\n",
       "    <tr>\n",
       "      <th>2</th>\n",
       "      <td>38</td>\n",
       "      <td>Private</td>\n",
       "      <td>215646</td>\n",
       "      <td>HS-grad</td>\n",
       "      <td>9</td>\n",
       "      <td>Divorced</td>\n",
       "      <td>Handlers-cleaners</td>\n",
       "      <td>Not-in-family</td>\n",
       "      <td>White</td>\n",
       "      <td>Male</td>\n",
       "      <td>0</td>\n",
       "      <td>0</td>\n",
       "      <td>40</td>\n",
       "      <td>United-States</td>\n",
       "      <td>&lt;=50K</td>\n",
       "    </tr>\n",
       "    <tr>\n",
       "      <th>3</th>\n",
       "      <td>53</td>\n",
       "      <td>Private</td>\n",
       "      <td>234721</td>\n",
       "      <td>11th</td>\n",
       "      <td>7</td>\n",
       "      <td>Married-civ-spouse</td>\n",
       "      <td>Handlers-cleaners</td>\n",
       "      <td>Husband</td>\n",
       "      <td>Black</td>\n",
       "      <td>Male</td>\n",
       "      <td>0</td>\n",
       "      <td>0</td>\n",
       "      <td>40</td>\n",
       "      <td>United-States</td>\n",
       "      <td>&lt;=50K</td>\n",
       "    </tr>\n",
       "    <tr>\n",
       "      <th>4</th>\n",
       "      <td>28</td>\n",
       "      <td>Private</td>\n",
       "      <td>338409</td>\n",
       "      <td>Bachelors</td>\n",
       "      <td>13</td>\n",
       "      <td>Married-civ-spouse</td>\n",
       "      <td>Prof-specialty</td>\n",
       "      <td>Wife</td>\n",
       "      <td>Black</td>\n",
       "      <td>Female</td>\n",
       "      <td>0</td>\n",
       "      <td>0</td>\n",
       "      <td>40</td>\n",
       "      <td>Cuba</td>\n",
       "      <td>&lt;=50K</td>\n",
       "    </tr>\n",
       "  </tbody>\n",
       "</table>\n",
       "</div>"
      ],
      "text/plain": [
       "   age         workclass  fnlwgt  education  education-num  \\\n",
       "0   39         State-gov   77516  Bachelors             13   \n",
       "1   50  Self-emp-not-inc   83311  Bachelors             13   \n",
       "2   38           Private  215646    HS-grad              9   \n",
       "3   53           Private  234721       11th              7   \n",
       "4   28           Private  338409  Bachelors             13   \n",
       "\n",
       "       marital-status         occupation   relationship   race     sex  \\\n",
       "0       Never-married       Adm-clerical  Not-in-family  White    Male   \n",
       "1  Married-civ-spouse    Exec-managerial        Husband  White    Male   \n",
       "2            Divorced  Handlers-cleaners  Not-in-family  White    Male   \n",
       "3  Married-civ-spouse  Handlers-cleaners        Husband  Black    Male   \n",
       "4  Married-civ-spouse     Prof-specialty           Wife  Black  Female   \n",
       "\n",
       "   capital-gain  capital-loss  hours-per-week native-country salary  \n",
       "0          2174             0              40  United-States  <=50K  \n",
       "1             0             0              13  United-States  <=50K  \n",
       "2             0             0              40  United-States  <=50K  \n",
       "3             0             0              40  United-States  <=50K  \n",
       "4             0             0              40           Cuba  <=50K  "
      ]
     },
     "execution_count": 16,
     "metadata": {},
     "output_type": "execute_result"
    }
   ],
   "source": [
    "# загружаем датасет\n",
    "data = pd.read_csv(\"./data/adult.data.csv\")\n",
    "data.head()"
   ]
  },
  {
   "cell_type": "markdown",
   "metadata": {},
   "source": [
    "**1. Посчитайте, сколько мужчин и женщин (признак *sex*) представлено в этом датасете**"
   ]
  },
  {
   "cell_type": "code",
   "execution_count": 3,
   "metadata": {},
   "outputs": [],
   "source": [
    "print(data.groupby(['sex'])['age'].count())"
   ]
  },
  {
   "cell_type": "markdown",
   "metadata": {},
   "source": [
    "**2. Каков средний возраст мужчин (признак *age*) по всему датасету?**"
   ]
  },
  {
   "cell_type": "code",
   "execution_count": 4,
   "metadata": {},
   "outputs": [],
   "source": [
    "t = data[data.sex == 'Male']['age'].mean()\n",
    "print(t)"
   ]
  },
  {
   "cell_type": "markdown",
   "metadata": {},
   "source": [
    "**3. Какова доля граждан Соединенных Штатов (признак *native-country*)?**"
   ]
  },
  {
   "cell_type": "code",
   "execution_count": 5,
   "metadata": {},
   "outputs": [],
   "source": [
    "v = len(data['native-country'])\n",
    "c = len(data[data['native-country'].isin(['United-States'])])\n",
    "x = (float(c) * 100)/float(v)\n",
    "print(x)"
   ]
  },
  {
   "cell_type": "markdown",
   "metadata": {},
   "source": [
    "**4-5. Рассчитайте среднее значение и среднеквадратичное отклонение возраста тех, кто получает более 50K в год (признак *salary*) и тех, кто получает менее 50K в год**"
   ]
  },
  {
   "cell_type": "code",
   "execution_count": 6,
   "metadata": {},
   "outputs": [],
   "source": [
    "moreThanFifrh = data[(data['salary'] == '>50K') | (data['salary'] == '>=50K')]\n",
    "lessThenFifth = data[data['salary'] == '<=50K']\n",
    "\n",
    "meanAgeMore = moreThanFifrh['age'].mean()\n",
    "meanAgeLess = lessThenFifth['age'].mean()\n",
    "\n",
    "stdAgeMore = moreThanFifrh['age'].std()\n",
    "stdAgeLess = lessThenFifth['age'].std()\n",
    "\n",
    "print('Средний возраст пир зарплате >= 50К : ' + str(meanAgeMore))\n",
    "print('Средний возраст при зарплате <= 50K : ' + str(meanAgeLess))\n",
    "print('Среднеквадратичное отклонение при зарплате >= 50К : ' + str(stdAgeMore))\n",
    "print('Среднеквадратичное отклонение при зарплате <= 50K : ' + str(stdAgeLess))\n",
    "\n"
   ]
  },
  {
   "cell_type": "markdown",
   "metadata": {},
   "source": [
    "**6. Правда ли, что люди, которые получают больше 50k, имеют минимум высшее образование? (признак *education – Bachelors, Prof-school, Assoc-acdm, Assoc-voc, Masters* или *Doctorate*)**"
   ]
  },
  {
   "cell_type": "code",
   "execution_count": 7,
   "metadata": {},
   "outputs": [],
   "source": [
    "#Алгоритм : \n",
    "#Посчитать кол-во людей с зарпалтой > 50К\n",
    "#А потом подсчитать кол-во людей с высшим образованием и зарплатой > 50K\n",
    "#Далее эти значения сравниить\n",
    "#Если они совпадают - Выводим true\n",
    "#Если нет - false\n",
    "#Однако в нашей ситуации всё оказалось куда проще\n",
    "salaryMoreThanFifth = data[data['salary'] == '>50K']\n",
    "print(\"Кол-во людей с разплатой > 50K : \" + str(len(salaryMoreThanFifth)))\n",
    "peopleWithHighEducation = data[(data['education'] == 'Dachelors') | (data['education'] == 'Prof-school') | (data['education'] == 'Assoc-asdm') | (data['education'] == 'Assoc-voc') | (data['education'] == 'Masters') | (data['education'] == 'Doctorate')]\n",
    "print(\"Кол-во людей с высшим образованием : \" + str(len(peopleWithHighEducation)))\n",
    "\n",
    "print(\"Уже здесь можно сделать вывод, что это не так, т.к. людей с \\nвысшим образованием куда меньше, чем людей, получающих зарплату >50К \\nПроверим это циклом и получим :\")\n",
    "if int(len(salaryMoreThanFifth)) > int(len(peopleWithHighEducation)) : \n",
    "    print('False')\n",
    "elif int(len(salaryMoreThanFifth)) < int(len(peopleWithHighEducation)) : \n",
    "    print('True')"
   ]
  },
  {
   "cell_type": "markdown",
   "metadata": {},
   "source": [
    "**7. Выведите статистику возраста для каждой расы (признак *race*) и каждого пола. Используйте *groupby* и *describe*. Найдите таким образом максимальный возраст мужчин расы *Asian-Pac-Islander*.**"
   ]
  },
  {
   "cell_type": "code",
   "execution_count": 8,
   "metadata": {
    "scrolled": true
   },
   "outputs": [],
   "source": [
    "print(data.groupby(['race']).describe().head())\n",
    "print(data.groupby(['sex']).describe().head())\n",
    "print(data[data['race'] == 'Asian-Pac-Islander'].describe())"
   ]
  },
  {
   "cell_type": "markdown",
   "metadata": {},
   "source": [
    "**8. Среди кого больше доля зарабатывающих много (>50K): среди женатых или холостых мужчин (признак *marital-status*)? Женатыми считаем тех, у кого *marital-status* начинается с *Married* (Married-civ-spouse, Married-spouse-absent или Married-AF-spouse), остальных считаем холостыми.**"
   ]
  },
  {
   "cell_type": "code",
   "execution_count": 9,
   "metadata": {},
   "outputs": [],
   "source": [
    "#Находим тех, кто женат\n",
    "f = data[data['marital-status'].str.contains(\"^Married\")]\n",
    "\n",
    "#Определяем кол-во тех, кто женат и зарабатыватет >50K\n",
    "salaryOfMarried = f[data['salary'] == '>50K']\n",
    "\n",
    "#Высчитываем кол-во тех, кто зарабатывает >50K\n",
    "howMannyEarnMoreThamFifth = data[data['salary'] == '>50K']\n",
    "\n",
    "#Определяем сколько неженатых, зарабатывающих >50K\n",
    "\n",
    "salaryOfNotMarried = int(len(howMannyEarnMoreThamFifth)) - int(len(salaryOfMarried))\n",
    "\n",
    "if int(len(salaryOfMarried)) > salaryOfNotMarried :\n",
    "    print('Больше зарабатывают женатые')\n",
    "elif int(len(salaryOfMarried)) < salaryOfNotMarried:   \n",
    "    print('Больше зарабатывают неженатые')\n",
    "\n",
    "print( 'Всего зарабатывающих >50K : '+ str(len(howMannyEarnMoreThamFifth)))\n",
    "print( 'Всего неженатых зарабатывающих больше 50К : ' + str(salaryOfNotMarried))\n",
    "print( 'Всего женатых зарабатывающих больше 50К : '+ str(len(salaryOfMarried)))"
   ]
  },
  {
   "cell_type": "markdown",
   "metadata": {},
   "source": [
    "**9. Какое максимальное число часов человек работает в неделю (признак *hours-per-week*)? Сколько людей работают такое количество часов и каков среди них процент зарабатывающих много?**"
   ]
  },
  {
   "cell_type": "code",
   "execution_count": 10,
   "metadata": {},
   "outputs": [],
   "source": [
    "maxHoursPerWeek = data['hours-per-week'].max()\n",
    "print('Максимальное число рабочих часов в неделю : ' + str(maxHoursPerWeek))\n",
    "howManyPeopleWorksMax = data[data['hours-per-week'] == maxHoursPerWeek]\n",
    "print(\"Сколко людей работает максимальное число часов в неделю : \" + str(len(howManyPeopleWorksMax)))\n",
    "\n",
    "howManyPeopleWorksMaxAndHaveHighSalary = howManyPeopleWorksMax[data['salary'] == '>50K']\n",
    "\n",
    "perCentOfThisPeople = (int(len(howManyPeopleWorksMaxAndHaveHighSalary)) * 100)/int(len(howManyPeopleWorksMax))\n",
    "print('Сколько из них имеет высокую зарплату : ' + str(perCentOfThisPeople) + ' %')"
   ]
  },
  {
   "cell_type": "markdown",
   "metadata": {},
   "source": [
    "**10. Посчитайте среднее время работы (*hours-per-week*) зарабатывающих мало и много (*salary*) для каждой страны (*native-country*).**"
   ]
  },
  {
   "cell_type": "code",
   "execution_count": 11,
   "metadata": {
    "scrolled": true
   },
   "outputs": [],
   "source": [
    "\n",
    "#Те, кто зарабатывают мало\n",
    "lowSalary = data[data['salary'] == '<=50K']\n",
    "groupLowByCountry = lowSalary.groupby(['native-country'])\n",
    "#Их среднее время работы\n",
    "meanHourLowSalary = groupLowByCountry['hours-per-week'].mean()\n",
    "print('Среднее время работы тех, кто зарабатывает мало(для каждой страны) : \\n' + str(meanHourLowSalary))\n",
    "\n",
    "\n",
    "#Те, кто зарабатывает много\n",
    "highSalary = data[data['salary'] == '>50K']\n",
    "groupHighByCountry = highSalary.groupby(['native-country'])\n",
    "#Их среднее время работы\n",
    "meanHourHighSalary = groupHighByCountry['hours-per-week'].mean()\n",
    "print('Среднее время работы тех, кто зарабатывает много(для каждой страны) : \\n' + str(meanHourHighSalary))\n"
   ]
  },
  {
   "cell_type": "markdown",
   "metadata": {},
   "source": [
    "**11.Сгруппируйте людей по возрастным группам *young*, *adult*, *retiree*, где:**\n",
    "* *young* соответствует 16-35 лет\n",
    "* *adult* - 35-70 лет\n",
    "* *retiree* - 70-100 лет\n",
    "\n",
    "**Проставьте название соответсвтуещей группы для каждого человека в новой колонке AgeGroup**"
   ]
  },
  {
   "cell_type": "code",
   "execution_count": 12,
   "metadata": {
    "scrolled": true
   },
   "outputs": [],
   "source": [
    "def rule(age):\n",
    "    if age > 16 and age < 35:\n",
    "        return 'young'\n",
    "    elif age > 35 and age < 70:\n",
    "        return 'adult'\n",
    "    elif age > 70 and age < 100:\n",
    "        return 'retireee'\n",
    "\n",
    "data['AgeGroup'] = data.apply(lambda x : rule(x['age']),axis = 1)\n",
    "print(data.head())\n"
   ]
  },
  {
   "cell_type": "markdown",
   "metadata": {},
   "source": [
    "**12-13. Определите количество зарабатывающих >50K в каждой из возрастных групп (колонка AgeGroup), а также выведите название возрастной группы, в которой чаще зарабатывают больше 50К (>50K)**"
   ]
  },
  {
   "cell_type": "markdown",
   "metadata": {},
   "source": []
  },
  {
   "cell_type": "code",
   "execution_count": 13,
   "metadata": {},
   "outputs": [],
   "source": [
    "#Код из предыдущего таска\n",
    "def rule(age):\n",
    "    if age > 16 and age < 35:\n",
    "        return 'young'\n",
    "    elif age > 35 and age < 70:\n",
    "        return 'adult'\n",
    "    elif age > 70 and age < 100:\n",
    "        return 'retireee'\n",
    "\n",
    "data['AgeGroup'] = data.apply(lambda x : rule(x['age']),axis = 1)\n",
    "#Код из предыдущего таска\n",
    "\n",
    "salar = data[data['salary'] == '>50K']\n",
    "all = data['AgeGroup'].value_counts()\n",
    "print(all)\n",
    "maxEarning = str(data['AgeGroup'].value_counts().max())\n",
    "print('Больше всего зарабатывают : ' + str(data['AgeGroup'].value_counts().max()))\n"
   ]
  },
  {
   "cell_type": "markdown",
   "metadata": {},
   "source": [
    "**14. Сгруппируйте людей по типу занятости (колонка occupation) и определите количество людей в каждой группе. После чего напишите функциюю фильтрации filter_func, которая будет возвращать только те группы, в которых средний возраст (колонка age) не больше 40 и в которых все работники отрабатывают более 5 часов в неделю (колонка hours-per-week)**"
   ]
  },
  {
   "cell_type": "code",
   "execution_count": 14,
   "metadata": {},
   "outputs": [],
   "source": [
    "groupCount = data.groupby('occupation')['age'].count()\n",
    "print('Кол-во людей в каждой occupation \\n' + str(groupCount))\n",
    "\n",
    "meanVal = data.groupby('occupation').mean()\n",
    "meanAgwVal = meanVal[meanVal['age'] < 40 ]\n",
    "meanWithHour = meanAgwVal[meanAgwVal['hours-per-week'] > 5]\n",
    "print(meanWithHour)"
   ]
  }
 ],
 "metadata": {
  "anaconda-cloud": {},
  "kernelspec": {
   "display_name": "Python 3.10.6 64-bit",
   "language": "python",
   "name": "python3"
  },
  "language_info": {
   "codemirror_mode": {
    "name": "ipython",
    "version": 3
   },
   "file_extension": ".py",
   "mimetype": "text/x-python",
   "name": "python",
   "nbconvert_exporter": "python",
   "pygments_lexer": "ipython3",
   "version": "3.10.6"
  },
  "vscode": {
   "interpreter": {
    "hash": "2741ca700fc1d425082dd1a84719abc4dd4ea335f150aab696e8cdc1f4dc8243"
   }
  }
 },
 "nbformat": 4,
 "nbformat_minor": 1
}
